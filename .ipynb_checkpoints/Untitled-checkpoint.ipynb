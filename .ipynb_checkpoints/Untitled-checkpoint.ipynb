{
 "cells": [
  {
   "cell_type": "code",
   "execution_count": null,
   "id": "04a6e77c-d396-4145-94fa-b3c7d8a9417f",
   "metadata": {},
   "outputs": [],
   "source": [
    "!pip install mediapipe"
   ]
  },
  {
   "cell_type": "code",
   "execution_count": null,
   "id": "8024fb0d-7362-4a87-8623-853935402eda",
   "metadata": {},
   "outputs": [],
   "source": [
    "!pip install opencv-python"
   ]
  },
  {
   "cell_type": "code",
   "execution_count": null,
   "id": "a205f33b-33ad-4ac0-882a-f08f3a951a5f",
   "metadata": {},
   "outputs": [],
   "source": [
    "import cv2\n",
    "import mediapipe as mp\n",
    "import numpy as np\n",
    "import streamlit as st\n",
    "\n",
    "# Initialize variables\n",
    "click_count = 0\n",
    "click_threshold = 10  # Adjust this threshold for a click gesture\n",
    "\n",
    "# Initialize Mediapipe Hand model\n",
    "mp_hands = mp.solutions.hands\n",
    "hands = mp_hands.Hands(static_image_mode=False, max_num_hands=1, min_detection_confidence=0.5, min_tracking_confidence=0.5)\n",
    "mp_drawing = mp.solutions.drawing_utils\n",
    "\n",
    "# Function for hand gesture recognition and counting clicks\n",
    "def hand_gesture_recognition():\n",
    "    global click_count\n",
    "\n",
    "    # Open webcam\n",
    "    cap = cv2.VideoCapture(0)\n",
    "\n",
    "    while True:\n",
    "        ret, frame = cap.read()\n",
    "        if not ret:\n",
    "            break\n",
    "\n",
    "        # Convert frame to RGB\n",
    "        rgb_frame = cv2.cvtColor(frame, cv2.COLOR_BGR2RGB)\n",
    "\n",
    "        # Detect hand landmarks\n",
    "        results = hands.process(rgb_frame)\n",
    "\n",
    "        if results.multi_hand_landmarks:\n",
    "            for hand_landmarks in results.multi_hand_landmarks:\n",
    "                # Extract landmarks for thumb and index finger\n",
    "                thumb_tip = hand_landmarks.landmark[mp_hands.HandLandmark.THUMB_TIP]\n",
    "                index_tip = hand_landmarks.landmark[mp_hands.HandLandmark.INDEX_FINGER_TIP]\n",
    "\n",
    "                # Calculate the distance between thumb tip and index finger tip\n",
    "                distance = ((thumb_tip.x - index_tip.x) ** 2 + (thumb_tip.y - index_tip.y) ** 2) ** 0.5\n",
    "\n",
    "                # If the distance is below a threshold, increment click count\n",
    "                if distance < 0.05:  # Adjust this threshold based on your hand movements\n",
    "                    click_count += 1\n",
    "\n",
    "        # Display the count on the Streamlit app\n",
    "        st.write(f\"Air Mouse Clicks: {click_count}\")\n",
    "\n",
    "        # Display the video stream in Streamlit\n",
    "        st.image(frame, channels=\"BGR\", use_column_width=True)\n",
    "\n",
    "        # Break the loop when 'Esc' is pressed\n",
    "        if cv2.waitKey(1) == 27:\n",
    "            break\n",
    "\n",
    "    # Release the camera\n",
    "    cap.release()\n",
    "    cv2.destroyAllWindows()\n",
    "\n",
    "# Streamlit UI\n",
    "st.title(\"Hand Gesture Recognition and Click Counter\")\n",
    "st.write(\"Use hand gestures to simulate clicks\")\n",
    "\n",
    "# Run hand gesture recognition and counting when the Streamlit app starts\n",
    "hand_gesture_recognition()\n"
   ]
  }
 ],
 "metadata": {
  "kernelspec": {
   "display_name": "Python 3 (ipykernel)",
   "language": "python",
   "name": "python3"
  },
  "language_info": {
   "codemirror_mode": {
    "name": "ipython",
    "version": 3
   },
   "file_extension": ".py",
   "mimetype": "text/x-python",
   "name": "python",
   "nbconvert_exporter": "python",
   "pygments_lexer": "ipython3",
   "version": "3.12.0"
  }
 },
 "nbformat": 4,
 "nbformat_minor": 5
}
